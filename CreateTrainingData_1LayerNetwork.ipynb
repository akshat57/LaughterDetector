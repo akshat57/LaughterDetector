{
 "cells": [
  {
   "cell_type": "code",
   "execution_count": 1,
   "metadata": {},
   "outputs": [],
   "source": [
    "import numpy as np\n",
    "import matplotlib.pyplot as plt\n",
    "import os\n",
    "import random\n",
    "import librosa"
   ]
  },
  {
   "cell_type": "code",
   "execution_count": 2,
   "metadata": {},
   "outputs": [],
   "source": [
    "DATADIR = \"data/\"\n",
    "CATEGORIES = [\"Segmented_Laugh\", \"Segmented_NonLaugh2\"]"
   ]
  },
  {
   "cell_type": "code",
   "execution_count": 3,
   "metadata": {},
   "outputs": [],
   "source": [
    "#creates training data\n",
    "training_data = []\n",
    "def create_training_data():\n",
    "    for category in CATEGORIES:\n",
    "        path = os.path.join(DATADIR, category) \n",
    "        class_num = CATEGORIES.index(category)\n",
    "        for aud in os.listdir(path):\n",
    "            if aud == '.DS_Store':\n",
    "                continue\n",
    "            aud_array , sr = librosa.load(os.path.join(path,aud), sr=None)\n",
    "            mfccs = librosa.feature.mfcc(aud_array, sr=sr)\n",
    "            if mfccs.shape[1] == 16:\n",
    "                training_data.append([mfccs[0:6,:].reshape(-1,1), class_num])\n",
    "            \n",
    "create_training_data()"
   ]
  },
  {
   "cell_type": "code",
   "execution_count": 4,
   "metadata": {},
   "outputs": [],
   "source": [
    "random.shuffle(training_data)#shuffles the training data"
   ]
  },
  {
   "cell_type": "code",
   "execution_count": 5,
   "metadata": {},
   "outputs": [],
   "source": [
    "X = []\n",
    "y = []"
   ]
  },
  {
   "cell_type": "code",
   "execution_count": 6,
   "metadata": {},
   "outputs": [],
   "source": [
    "for features, label in training_data:\n",
    "    X.append(features)\n",
    "    y.append(label)\n",
    "\n",
    "    \n",
    "X = np.array(X).reshape(-1,16,6)#-1 corresponds to how many features we have\n",
    "y = np.array(y)\n",
    "#X = X/250"
   ]
  },
  {
   "cell_type": "code",
   "execution_count": 7,
   "metadata": {},
   "outputs": [],
   "source": [
    "X = X/100#normalizing X"
   ]
  },
  {
   "cell_type": "code",
   "execution_count": 8,
   "metadata": {},
   "outputs": [
    {
     "data": {
      "text/plain": [
       "-3.717114"
      ]
     },
     "execution_count": 8,
     "metadata": {},
     "output_type": "execute_result"
    }
   ],
   "source": [
    "np.min(X)"
   ]
  },
  {
   "cell_type": "code",
   "execution_count": 9,
   "metadata": {},
   "outputs": [
    {
     "data": {
      "text/plain": [
       "4302"
      ]
     },
     "execution_count": 9,
     "metadata": {},
     "output_type": "execute_result"
    }
   ],
   "source": [
    "np.array(y).shape[0]"
   ]
  },
  {
   "cell_type": "code",
   "execution_count": null,
   "metadata": {},
   "outputs": [],
   "source": []
  },
  {
   "cell_type": "markdown",
   "metadata": {},
   "source": [
    "# FC NN"
   ]
  },
  {
   "cell_type": "code",
   "execution_count": 10,
   "metadata": {},
   "outputs": [],
   "source": [
    "import tensorflow as tf"
   ]
  },
  {
   "cell_type": "code",
   "execution_count": 11,
   "metadata": {},
   "outputs": [
    {
     "name": "stdout",
     "output_type": "stream",
     "text": [
      "Train on 3441 samples, validate on 861 samples\n",
      "Epoch 1/100\n",
      "3441/3441 [==============================] - 1s 292us/sample - loss: 0.6061 - accuracy: 0.6806 - val_loss: 0.5418 - val_accuracy: 0.7317\n",
      "Epoch 2/100\n",
      "3441/3441 [==============================] - 0s 103us/sample - loss: 0.5092 - accuracy: 0.7422 - val_loss: 0.5087 - val_accuracy: 0.7584\n",
      "Epoch 3/100\n",
      "3441/3441 [==============================] - 0s 81us/sample - loss: 0.4847 - accuracy: 0.7597 - val_loss: 0.5003 - val_accuracy: 0.7654\n",
      "Epoch 4/100\n",
      "3441/3441 [==============================] - 0s 67us/sample - loss: 0.4700 - accuracy: 0.7722 - val_loss: 0.4821 - val_accuracy: 0.7851\n",
      "Epoch 5/100\n",
      "3441/3441 [==============================] - 0s 80us/sample - loss: 0.4576 - accuracy: 0.7847 - val_loss: 0.4766 - val_accuracy: 0.7828\n",
      "Epoch 6/100\n",
      "3441/3441 [==============================] - 0s 100us/sample - loss: 0.4505 - accuracy: 0.7908 - val_loss: 0.4679 - val_accuracy: 0.7933\n",
      "Epoch 7/100\n",
      "3441/3441 [==============================] - 0s 81us/sample - loss: 0.4381 - accuracy: 0.7992 - val_loss: 0.4620 - val_accuracy: 0.7921\n",
      "Epoch 8/100\n",
      "3441/3441 [==============================] - 1s 340us/sample - loss: 0.4307 - accuracy: 0.8001 - val_loss: 0.4592 - val_accuracy: 0.7898\n",
      "Epoch 9/100\n",
      "3441/3441 [==============================] - 1s 299us/sample - loss: 0.4208 - accuracy: 0.8105 - val_loss: 0.4587 - val_accuracy: 0.7758\n",
      "Epoch 10/100\n",
      "3441/3441 [==============================] - 1s 266us/sample - loss: 0.4119 - accuracy: 0.8216 - val_loss: 0.4446 - val_accuracy: 0.7956\n",
      "Epoch 11/100\n",
      "3441/3441 [==============================] - 0s 142us/sample - loss: 0.4054 - accuracy: 0.8233 - val_loss: 0.4460 - val_accuracy: 0.7909\n",
      "Epoch 12/100\n",
      "3441/3441 [==============================] - 0s 74us/sample - loss: 0.3968 - accuracy: 0.8274 - val_loss: 0.4384 - val_accuracy: 0.8026\n",
      "Epoch 13/100\n",
      "3441/3441 [==============================] - 0s 116us/sample - loss: 0.3891 - accuracy: 0.8338 - val_loss: 0.4332 - val_accuracy: 0.8014\n",
      "Epoch 14/100\n",
      "3441/3441 [==============================] - 0s 75us/sample - loss: 0.3907 - accuracy: 0.8352 - val_loss: 0.4323 - val_accuracy: 0.8037\n",
      "Epoch 15/100\n",
      "3441/3441 [==============================] - 0s 88us/sample - loss: 0.3783 - accuracy: 0.8384 - val_loss: 0.4298 - val_accuracy: 0.8037\n",
      "Epoch 16/100\n",
      "3441/3441 [==============================] - 0s 86us/sample - loss: 0.3731 - accuracy: 0.8410 - val_loss: 0.4208 - val_accuracy: 0.8130\n",
      "Epoch 17/100\n",
      "3441/3441 [==============================] - 0s 95us/sample - loss: 0.3643 - accuracy: 0.8451 - val_loss: 0.4250 - val_accuracy: 0.8165\n",
      "Epoch 18/100\n",
      "3441/3441 [==============================] - 0s 84us/sample - loss: 0.3587 - accuracy: 0.8492 - val_loss: 0.4161 - val_accuracy: 0.8153\n",
      "Epoch 19/100\n",
      "3441/3441 [==============================] - 0s 103us/sample - loss: 0.3520 - accuracy: 0.8521 - val_loss: 0.4120 - val_accuracy: 0.8211\n",
      "Epoch 20/100\n",
      "3441/3441 [==============================] - 0s 88us/sample - loss: 0.3484 - accuracy: 0.8538 - val_loss: 0.4133 - val_accuracy: 0.8177\n",
      "Epoch 21/100\n",
      "3441/3441 [==============================] - 0s 84us/sample - loss: 0.3447 - accuracy: 0.8591 - val_loss: 0.4106 - val_accuracy: 0.8211\n",
      "Epoch 22/100\n",
      "3441/3441 [==============================] - 0s 79us/sample - loss: 0.3398 - accuracy: 0.8585 - val_loss: 0.4133 - val_accuracy: 0.8153\n",
      "Epoch 23/100\n",
      "3441/3441 [==============================] - 0s 67us/sample - loss: 0.3337 - accuracy: 0.8588 - val_loss: 0.4077 - val_accuracy: 0.8200\n",
      "Epoch 24/100\n",
      "3441/3441 [==============================] - 0s 84us/sample - loss: 0.3304 - accuracy: 0.8620 - val_loss: 0.4120 - val_accuracy: 0.8165\n",
      "Epoch 25/100\n",
      "3441/3441 [==============================] - 0s 79us/sample - loss: 0.3281 - accuracy: 0.8620 - val_loss: 0.4066 - val_accuracy: 0.8177\n",
      "Epoch 26/100\n",
      "3441/3441 [==============================] - 0s 81us/sample - loss: 0.3224 - accuracy: 0.8692 - val_loss: 0.4034 - val_accuracy: 0.8153\n",
      "Epoch 27/100\n",
      "3441/3441 [==============================] - 1s 296us/sample - loss: 0.3187 - accuracy: 0.8657 - val_loss: 0.4189 - val_accuracy: 0.8107\n",
      "Epoch 28/100\n",
      "3441/3441 [==============================] - 1s 202us/sample - loss: 0.3178 - accuracy: 0.8710 - val_loss: 0.4023 - val_accuracy: 0.8142\n",
      "Epoch 29/100\n",
      "3441/3441 [==============================] - 0s 123us/sample - loss: 0.3123 - accuracy: 0.8707 - val_loss: 0.4091 - val_accuracy: 0.8235\n",
      "Epoch 30/100\n",
      "3441/3441 [==============================] - 0s 84us/sample - loss: 0.3092 - accuracy: 0.8686 - val_loss: 0.4013 - val_accuracy: 0.8200\n",
      "Epoch 31/100\n",
      "3441/3441 [==============================] - 0s 93us/sample - loss: 0.3105 - accuracy: 0.8710 - val_loss: 0.4048 - val_accuracy: 0.8293\n",
      "Epoch 32/100\n",
      "3441/3441 [==============================] - 0s 86us/sample - loss: 0.3065 - accuracy: 0.8710 - val_loss: 0.4060 - val_accuracy: 0.8223\n",
      "Epoch 33/100\n",
      "3441/3441 [==============================] - 0s 81us/sample - loss: 0.3022 - accuracy: 0.8782 - val_loss: 0.4248 - val_accuracy: 0.8049\n",
      "Epoch 34/100\n",
      "3441/3441 [==============================] - 0s 68us/sample - loss: 0.3001 - accuracy: 0.8785 - val_loss: 0.4180 - val_accuracy: 0.8200\n",
      "Epoch 35/100\n",
      "3441/3441 [==============================] - 0s 69us/sample - loss: 0.2964 - accuracy: 0.8782 - val_loss: 0.4192 - val_accuracy: 0.8211\n",
      "Epoch 36/100\n",
      "3441/3441 [==============================] - 0s 71us/sample - loss: 0.2935 - accuracy: 0.8797 - val_loss: 0.4158 - val_accuracy: 0.8165\n",
      "Epoch 37/100\n",
      "3441/3441 [==============================] - 0s 121us/sample - loss: 0.2944 - accuracy: 0.8794 - val_loss: 0.4177 - val_accuracy: 0.8165\n",
      "Epoch 38/100\n",
      "3441/3441 [==============================] - 0s 89us/sample - loss: 0.2895 - accuracy: 0.8811 - val_loss: 0.4197 - val_accuracy: 0.8223\n",
      "Epoch 39/100\n",
      "3441/3441 [==============================] - 0s 108us/sample - loss: 0.2871 - accuracy: 0.8811 - val_loss: 0.4146 - val_accuracy: 0.8246\n",
      "Epoch 40/100\n",
      "3441/3441 [==============================] - 0s 91us/sample - loss: 0.2859 - accuracy: 0.8861 - val_loss: 0.4024 - val_accuracy: 0.8316\n",
      "Epoch 41/100\n",
      "3441/3441 [==============================] - 0s 92us/sample - loss: 0.2832 - accuracy: 0.8881 - val_loss: 0.4036 - val_accuracy: 0.8339\n",
      "Epoch 42/100\n",
      "3441/3441 [==============================] - 0s 83us/sample - loss: 0.2837 - accuracy: 0.8881 - val_loss: 0.4125 - val_accuracy: 0.8211\n",
      "Epoch 43/100\n",
      "3441/3441 [==============================] - 0s 72us/sample - loss: 0.2822 - accuracy: 0.8849 - val_loss: 0.4126 - val_accuracy: 0.8246\n",
      "Epoch 44/100\n",
      "3441/3441 [==============================] - 0s 71us/sample - loss: 0.2810 - accuracy: 0.8849 - val_loss: 0.4052 - val_accuracy: 0.8304\n",
      "Epoch 45/100\n",
      "3441/3441 [==============================] - 0s 70us/sample - loss: 0.2764 - accuracy: 0.8896 - val_loss: 0.4230 - val_accuracy: 0.8142\n",
      "Epoch 46/100\n",
      "3441/3441 [==============================] - 0s 119us/sample - loss: 0.2735 - accuracy: 0.8910 - val_loss: 0.4135 - val_accuracy: 0.8258\n",
      "Epoch 47/100\n",
      "3441/3441 [==============================] - 0s 132us/sample - loss: 0.2743 - accuracy: 0.8893 - val_loss: 0.4139 - val_accuracy: 0.8235\n",
      "Epoch 48/100\n",
      "3441/3441 [==============================] - 1s 159us/sample - loss: 0.2696 - accuracy: 0.8890 - val_loss: 0.4069 - val_accuracy: 0.8316\n",
      "Epoch 49/100\n",
      "3441/3441 [==============================] - 1s 191us/sample - loss: 0.2684 - accuracy: 0.8936 - val_loss: 0.4226 - val_accuracy: 0.8235\n",
      "Epoch 50/100\n",
      "3441/3441 [==============================] - 1s 153us/sample - loss: 0.2691 - accuracy: 0.8963 - val_loss: 0.4094 - val_accuracy: 0.8351\n",
      "Epoch 51/100\n",
      "3441/3441 [==============================] - 0s 135us/sample - loss: 0.2669 - accuracy: 0.8931 - val_loss: 0.4195 - val_accuracy: 0.8118\n",
      "Epoch 52/100\n",
      "3441/3441 [==============================] - 1s 200us/sample - loss: 0.2673 - accuracy: 0.8931 - val_loss: 0.4143 - val_accuracy: 0.8328\n",
      "Epoch 53/100\n",
      "3441/3441 [==============================] - 1s 261us/sample - loss: 0.2624 - accuracy: 0.8936 - val_loss: 0.4099 - val_accuracy: 0.8316\n",
      "Epoch 54/100\n",
      "3441/3441 [==============================] - 1s 253us/sample - loss: 0.2650 - accuracy: 0.8901 - val_loss: 0.4145 - val_accuracy: 0.8339\n",
      "Epoch 55/100\n"
     ]
    },
    {
     "name": "stdout",
     "output_type": "stream",
     "text": [
      "3441/3441 [==============================] - 1s 160us/sample - loss: 0.2598 - accuracy: 0.8983 - val_loss: 0.4209 - val_accuracy: 0.8293\n",
      "Epoch 56/100\n",
      "3441/3441 [==============================] - 1s 206us/sample - loss: 0.2608 - accuracy: 0.8992 - val_loss: 0.4289 - val_accuracy: 0.8304\n",
      "Epoch 57/100\n",
      "3441/3441 [==============================] - 0s 91us/sample - loss: 0.2554 - accuracy: 0.8963 - val_loss: 0.4321 - val_accuracy: 0.8281\n",
      "Epoch 58/100\n",
      "3441/3441 [==============================] - 0s 135us/sample - loss: 0.2561 - accuracy: 0.8965 - val_loss: 0.4265 - val_accuracy: 0.8328\n",
      "Epoch 59/100\n",
      "3441/3441 [==============================] - 1s 151us/sample - loss: 0.2557 - accuracy: 0.8968 - val_loss: 0.4174 - val_accuracy: 0.8374\n",
      "Epoch 60/100\n",
      "3441/3441 [==============================] - 0s 85us/sample - loss: 0.2499 - accuracy: 0.9015 - val_loss: 0.4219 - val_accuracy: 0.8304\n",
      "Epoch 61/100\n",
      "3441/3441 [==============================] - 0s 93us/sample - loss: 0.2513 - accuracy: 0.9038 - val_loss: 0.4234 - val_accuracy: 0.8281\n",
      "Epoch 62/100\n",
      "3441/3441 [==============================] - 0s 85us/sample - loss: 0.2474 - accuracy: 0.9021 - val_loss: 0.4330 - val_accuracy: 0.8304\n",
      "Epoch 63/100\n",
      "3441/3441 [==============================] - 0s 84us/sample - loss: 0.2455 - accuracy: 0.9056 - val_loss: 0.4217 - val_accuracy: 0.8455\n",
      "Epoch 64/100\n",
      "3441/3441 [==============================] - 0s 71us/sample - loss: 0.2485 - accuracy: 0.9003 - val_loss: 0.4303 - val_accuracy: 0.8374\n",
      "Epoch 65/100\n",
      "3441/3441 [==============================] - 0s 77us/sample - loss: 0.2464 - accuracy: 0.9038 - val_loss: 0.4228 - val_accuracy: 0.8281\n",
      "Epoch 66/100\n",
      "3441/3441 [==============================] - 0s 77us/sample - loss: 0.2465 - accuracy: 0.8983 - val_loss: 0.4315 - val_accuracy: 0.8235\n",
      "Epoch 67/100\n",
      "3441/3441 [==============================] - 0s 76us/sample - loss: 0.2422 - accuracy: 0.9032 - val_loss: 0.4286 - val_accuracy: 0.8258\n",
      "Epoch 68/100\n",
      "3441/3441 [==============================] - 0s 71us/sample - loss: 0.2400 - accuracy: 0.9082 - val_loss: 0.4321 - val_accuracy: 0.8281\n",
      "Epoch 69/100\n",
      "3441/3441 [==============================] - 0s 72us/sample - loss: 0.2409 - accuracy: 0.9076 - val_loss: 0.4343 - val_accuracy: 0.8258\n",
      "Epoch 70/100\n",
      "3441/3441 [==============================] - 0s 82us/sample - loss: 0.2384 - accuracy: 0.9061 - val_loss: 0.4316 - val_accuracy: 0.8316\n",
      "Epoch 71/100\n",
      "3441/3441 [==============================] - 0s 73us/sample - loss: 0.2363 - accuracy: 0.9096 - val_loss: 0.4312 - val_accuracy: 0.8281\n",
      "Epoch 72/100\n",
      "3441/3441 [==============================] - 0s 72us/sample - loss: 0.2342 - accuracy: 0.9117 - val_loss: 0.4379 - val_accuracy: 0.8316\n",
      "Epoch 73/100\n",
      "3441/3441 [==============================] - 0s 78us/sample - loss: 0.2342 - accuracy: 0.9087 - val_loss: 0.4409 - val_accuracy: 0.8362\n",
      "Epoch 74/100\n",
      "3441/3441 [==============================] - 0s 73us/sample - loss: 0.2348 - accuracy: 0.9061 - val_loss: 0.4408 - val_accuracy: 0.8386\n",
      "Epoch 75/100\n",
      "3441/3441 [==============================] - 0s 80us/sample - loss: 0.2342 - accuracy: 0.9079 - val_loss: 0.4345 - val_accuracy: 0.8269\n",
      "Epoch 76/100\n",
      "3441/3441 [==============================] - 0s 74us/sample - loss: 0.2322 - accuracy: 0.9099 - val_loss: 0.4439 - val_accuracy: 0.8304\n",
      "Epoch 77/100\n",
      "3441/3441 [==============================] - 1s 147us/sample - loss: 0.2290 - accuracy: 0.9119 - val_loss: 0.4491 - val_accuracy: 0.8269\n",
      "Epoch 78/100\n",
      "3441/3441 [==============================] - 0s 76us/sample - loss: 0.2264 - accuracy: 0.9131 - val_loss: 0.4457 - val_accuracy: 0.8235\n",
      "Epoch 79/100\n",
      "3441/3441 [==============================] - 0s 79us/sample - loss: 0.2280 - accuracy: 0.9073 - val_loss: 0.4376 - val_accuracy: 0.8339\n",
      "Epoch 80/100\n",
      "3441/3441 [==============================] - 0s 77us/sample - loss: 0.2254 - accuracy: 0.9125 - val_loss: 0.4550 - val_accuracy: 0.8211\n",
      "Epoch 81/100\n",
      "3441/3441 [==============================] - 0s 110us/sample - loss: 0.2258 - accuracy: 0.9087 - val_loss: 0.4498 - val_accuracy: 0.8362\n",
      "Epoch 82/100\n",
      "3441/3441 [==============================] - 0s 73us/sample - loss: 0.2228 - accuracy: 0.9111 - val_loss: 0.4369 - val_accuracy: 0.8304\n",
      "Epoch 83/100\n",
      "3441/3441 [==============================] - 0s 85us/sample - loss: 0.2230 - accuracy: 0.9128 - val_loss: 0.4560 - val_accuracy: 0.8153\n",
      "Epoch 84/100\n",
      "3441/3441 [==============================] - 0s 80us/sample - loss: 0.2188 - accuracy: 0.9149 - val_loss: 0.4482 - val_accuracy: 0.8293\n",
      "Epoch 85/100\n",
      "3441/3441 [==============================] - 0s 113us/sample - loss: 0.2202 - accuracy: 0.9140 - val_loss: 0.4477 - val_accuracy: 0.8328\n",
      "Epoch 86/100\n",
      "3441/3441 [==============================] - 0s 79us/sample - loss: 0.2206 - accuracy: 0.9111 - val_loss: 0.4652 - val_accuracy: 0.8386\n",
      "Epoch 87/100\n",
      "3441/3441 [==============================] - 0s 77us/sample - loss: 0.2167 - accuracy: 0.9175 - val_loss: 0.4414 - val_accuracy: 0.8397\n",
      "Epoch 88/100\n",
      "3441/3441 [==============================] - 0s 85us/sample - loss: 0.2142 - accuracy: 0.9175 - val_loss: 0.4517 - val_accuracy: 0.8293\n",
      "Epoch 89/100\n",
      "3441/3441 [==============================] - 0s 83us/sample - loss: 0.2152 - accuracy: 0.9175 - val_loss: 0.4686 - val_accuracy: 0.8223\n",
      "Epoch 90/100\n",
      "3441/3441 [==============================] - 0s 73us/sample - loss: 0.2130 - accuracy: 0.9163 - val_loss: 0.4520 - val_accuracy: 0.8223\n",
      "Epoch 91/100\n",
      "3441/3441 [==============================] - 0s 78us/sample - loss: 0.2135 - accuracy: 0.9122 - val_loss: 0.4504 - val_accuracy: 0.8328\n",
      "Epoch 92/100\n",
      "3441/3441 [==============================] - 0s 76us/sample - loss: 0.2114 - accuracy: 0.9180 - val_loss: 0.4547 - val_accuracy: 0.8420\n",
      "Epoch 93/100\n",
      "3441/3441 [==============================] - 0s 81us/sample - loss: 0.2088 - accuracy: 0.9180 - val_loss: 0.4529 - val_accuracy: 0.8374\n",
      "Epoch 94/100\n",
      "3441/3441 [==============================] - 0s 80us/sample - loss: 0.2039 - accuracy: 0.9207 - val_loss: 0.4390 - val_accuracy: 0.8409\n",
      "Epoch 95/100\n",
      "3441/3441 [==============================] - 0s 86us/sample - loss: 0.2059 - accuracy: 0.9212 - val_loss: 0.4620 - val_accuracy: 0.8200\n",
      "Epoch 96/100\n",
      "3441/3441 [==============================] - 0s 88us/sample - loss: 0.2051 - accuracy: 0.9227 - val_loss: 0.4621 - val_accuracy: 0.8269\n",
      "Epoch 97/100\n",
      "3441/3441 [==============================] - 0s 80us/sample - loss: 0.2076 - accuracy: 0.9195 - val_loss: 0.4652 - val_accuracy: 0.8444\n",
      "Epoch 98/100\n",
      "3441/3441 [==============================] - 0s 83us/sample - loss: 0.2036 - accuracy: 0.9221 - val_loss: 0.4689 - val_accuracy: 0.8165\n",
      "Epoch 99/100\n",
      "3441/3441 [==============================] - 0s 75us/sample - loss: 0.1997 - accuracy: 0.9241 - val_loss: 0.4778 - val_accuracy: 0.8107\n",
      "Epoch 100/100\n",
      "3441/3441 [==============================] - 0s 69us/sample - loss: 0.2035 - accuracy: 0.9201 - val_loss: 0.4704 - val_accuracy: 0.8211\n"
     ]
    }
   ],
   "source": [
    "model = tf.keras.models.Sequential()#start a sequential model\n",
    "\n",
    "model.add(tf.keras.layers.Flatten())#This is our input layer\n",
    "model.add(tf.keras.layers.Dense(20, activation = tf.nn.relu))#This is first hidden layer\n",
    "#model.add(tf.keras.layers.Dense(6, activation = tf.nn.relu))#This is first hidden layer\n",
    "#model.add(tf.keras.layers.Dense(4, activation = tf.nn.relu))#This is first hidden layer\n",
    "model.add(tf.keras.layers.Dense(2, activation = tf.nn.softmax))#2 stands for number of classes\n",
    "\n",
    "model.compile(optimizer = 'adam', loss = 'sparse_categorical_crossentropy', metrics = ['accuracy'])\n",
    "\n",
    "history = model.fit(X, np.array(y), batch_size = 32 , epochs = 100, validation_split = 0.2, verbose=1)"
   ]
  },
  {
   "cell_type": "code",
   "execution_count": null,
   "metadata": {},
   "outputs": [],
   "source": []
  },
  {
   "cell_type": "code",
   "execution_count": 12,
   "metadata": {},
   "outputs": [
    {
     "data": {
      "image/png": "[encoded data removed]",
      "text/plain": [
       "<Figure size 432x288 with 1 Axes>"
      ]
     },
     "metadata": {},
     "output_type": "display_data"
    }
   ],
   "source": [
    "# summarize history for accuracy\n",
    "plt.plot(history.history['accuracy'])\n",
    "plt.plot(history.history['val_accuracy'])\n",
    "plt.title('model accuracy')\n",
    "plt.ylabel('accuracy')\n",
    "plt.xlabel('epoch')\n",
    "plt.legend(['train', 'test'], loc='upper left')\n",
    "plt.show()"
   ]
  },
  {
   "cell_type": "code",
   "execution_count": 13,
   "metadata": {},
   "outputs": [
    {
     "data": {
      "image/png": "[encoded data removed]",
      "text/plain": [
       "<Figure size 432x288 with 1 Axes>"
      ]
     },
     "metadata": {},
     "output_type": "display_data"
    }
   ],
   "source": [
    "# summarize history for loss\n",
    "plt.plot(history.history['loss'])\n",
    "plt.plot(history.history['val_loss'])\n",
    "plt.title('model loss')\n",
    "plt.ylabel('loss')\n",
    "plt.xlabel('epoch')\n",
    "plt.legend(['train', 'test'], loc='upper left')\n",
    "plt.show()"
   ]
  },
  {
   "cell_type": "code",
   "execution_count": null,
   "metadata": {},
   "outputs": [],
   "source": []
  },
  {
   "cell_type": "code",
   "execution_count": 25,
   "metadata": {},
   "outputs": [],
   "source": [
    "model.save('3.model')"
   ]
  },
  {
   "cell_type": "code",
   "execution_count": 30,
   "metadata": {},
   "outputs": [],
   "source": [
    "new_model = tf.keras.models.load_model('1.model')\n",
    "predictions = new_model.predict(X[])"
   ]
  },
  {
   "cell_type": "code",
   "execution_count": 38,
   "metadata": {},
   "outputs": [
    {
     "data": {
      "text/plain": [
       "1"
      ]
     },
     "execution_count": 38,
     "metadata": {},
     "output_type": "execute_result"
    }
   ],
   "source": [
    "np.argmax(predictions[10,:])"
   ]
  },
  {
   "cell_type": "code",
   "execution_count": null,
   "metadata": {},
   "outputs": [],
   "source": []
  },
  {
   "cell_type": "code",
   "execution_count": null,
   "metadata": {},
   "outputs": [],
   "source": []
  },
  {
   "cell_type": "markdown",
   "metadata": {},
   "source": [
    "# CNN"
   ]
  },
  {
   "cell_type": "code",
   "execution_count": 16,
   "metadata": {},
   "outputs": [],
   "source": [
    "from tensorflow.keras.models import Sequential\n",
    "from tensorflow.keras.layers import Dense, Dropout, Activation, Flatten, Conv2D, MaxPooling2D"
   ]
  },
  {
   "cell_type": "code",
   "execution_count": 18,
   "metadata": {},
   "outputs": [
    {
     "ename": "ValueError",
     "evalue": "Input 0 of layer conv2d_1 is incompatible with the layer: expected ndim=4, found ndim=3. Full shape received: [None, 16, 12]",
     "output_type": "error",
     "traceback": [
      "\u001b[0;31m---------------------------------------------------------------------------\u001b[0m",
      "\u001b[0;31mValueError\u001b[0m                                Traceback (most recent call last)",
      "\u001b[0;32m<ipython-input-18-0a63cc2ba504>\u001b[0m in \u001b[0;36m<module>\u001b[0;34m()\u001b[0m\n\u001b[1;32m      1\u001b[0m \u001b[0mmodel\u001b[0m \u001b[0;34m=\u001b[0m \u001b[0mSequential\u001b[0m\u001b[0;34m(\u001b[0m\u001b[0;34m)\u001b[0m\u001b[0;34m\u001b[0m\u001b[0m\n\u001b[1;32m      2\u001b[0m \u001b[0;34m\u001b[0m\u001b[0m\n\u001b[0;32m----> 3\u001b[0;31m \u001b[0mmodel\u001b[0m\u001b[0;34m.\u001b[0m\u001b[0madd\u001b[0m\u001b[0;34m(\u001b[0m\u001b[0mConv2D\u001b[0m\u001b[0;34m(\u001b[0m\u001b[0;36m1\u001b[0m\u001b[0;34m,\u001b[0m \u001b[0;34m(\u001b[0m\u001b[0;36m3\u001b[0m\u001b[0;34m,\u001b[0m\u001b[0;36m3\u001b[0m\u001b[0;34m)\u001b[0m\u001b[0;34m,\u001b[0m \u001b[0minput_shape\u001b[0m \u001b[0;34m=\u001b[0m \u001b[0mX\u001b[0m\u001b[0;34m.\u001b[0m\u001b[0mshape\u001b[0m\u001b[0;34m[\u001b[0m\u001b[0;36m1\u001b[0m\u001b[0;34m:\u001b[0m\u001b[0;34m]\u001b[0m\u001b[0;34m)\u001b[0m\u001b[0;34m)\u001b[0m\u001b[0;34m\u001b[0m\u001b[0m\n\u001b[0m\u001b[1;32m      4\u001b[0m \u001b[0mmodel\u001b[0m\u001b[0;34m.\u001b[0m\u001b[0madd\u001b[0m\u001b[0;34m(\u001b[0m\u001b[0mActivation\u001b[0m\u001b[0;34m(\u001b[0m\u001b[0;34m\"relu\"\u001b[0m\u001b[0;34m)\u001b[0m\u001b[0;34m)\u001b[0m\u001b[0;34m\u001b[0m\u001b[0m\n\u001b[1;32m      5\u001b[0m \u001b[0mmodel\u001b[0m\u001b[0;34m.\u001b[0m\u001b[0madd\u001b[0m\u001b[0;34m(\u001b[0m\u001b[0mMaxPooling2D\u001b[0m\u001b[0;34m(\u001b[0m\u001b[0mpool_size\u001b[0m \u001b[0;34m=\u001b[0m \u001b[0;34m(\u001b[0m\u001b[0;36m2\u001b[0m\u001b[0;34m,\u001b[0m\u001b[0;36m2\u001b[0m\u001b[0;34m)\u001b[0m\u001b[0;34m)\u001b[0m\u001b[0;34m)\u001b[0m\u001b[0;34m\u001b[0m\u001b[0m\n",
      "\u001b[0;32m~/Library/Python/3.6/lib/python/site-packages/tensorflow_core/python/training/tracking/base.py\u001b[0m in \u001b[0;36m_method_wrapper\u001b[0;34m(self, *args, **kwargs)\u001b[0m\n\u001b[1;32m    455\u001b[0m     \u001b[0mself\u001b[0m\u001b[0;34m.\u001b[0m\u001b[0m_self_setattr_tracking\u001b[0m \u001b[0;34m=\u001b[0m \u001b[0;32mFalse\u001b[0m  \u001b[0;31m# pylint: disable=protected-access\u001b[0m\u001b[0;34m\u001b[0m\u001b[0m\n\u001b[1;32m    456\u001b[0m     \u001b[0;32mtry\u001b[0m\u001b[0;34m:\u001b[0m\u001b[0;34m\u001b[0m\u001b[0m\n\u001b[0;32m--> 457\u001b[0;31m       \u001b[0mresult\u001b[0m \u001b[0;34m=\u001b[0m \u001b[0mmethod\u001b[0m\u001b[0;34m(\u001b[0m\u001b[0mself\u001b[0m\u001b[0;34m,\u001b[0m \u001b[0;34m*\u001b[0m\u001b[0margs\u001b[0m\u001b[0;34m,\u001b[0m \u001b[0;34m**\u001b[0m\u001b[0mkwargs\u001b[0m\u001b[0;34m)\u001b[0m\u001b[0;34m\u001b[0m\u001b[0m\n\u001b[0m\u001b[1;32m    458\u001b[0m     \u001b[0;32mfinally\u001b[0m\u001b[0;34m:\u001b[0m\u001b[0;34m\u001b[0m\u001b[0m\n\u001b[1;32m    459\u001b[0m       \u001b[0mself\u001b[0m\u001b[0;34m.\u001b[0m\u001b[0m_self_setattr_tracking\u001b[0m \u001b[0;34m=\u001b[0m \u001b[0mprevious_value\u001b[0m  \u001b[0;31m# pylint: disable=protected-access\u001b[0m\u001b[0;34m\u001b[0m\u001b[0m\n",
      "\u001b[0;32m~/Library/Python/3.6/lib/python/site-packages/tensorflow_core/python/keras/engine/sequential.py\u001b[0m in \u001b[0;36madd\u001b[0;34m(self, layer)\u001b[0m\n\u001b[1;32m    176\u001b[0m           \u001b[0;31m# and create the node connecting the current layer\u001b[0m\u001b[0;34m\u001b[0m\u001b[0;34m\u001b[0m\u001b[0m\n\u001b[1;32m    177\u001b[0m           \u001b[0;31m# to the input layer we just created.\u001b[0m\u001b[0;34m\u001b[0m\u001b[0;34m\u001b[0m\u001b[0m\n\u001b[0;32m--> 178\u001b[0;31m           \u001b[0mlayer\u001b[0m\u001b[0;34m(\u001b[0m\u001b[0mx\u001b[0m\u001b[0;34m)\u001b[0m\u001b[0;34m\u001b[0m\u001b[0m\n\u001b[0m\u001b[1;32m    179\u001b[0m           \u001b[0mset_inputs\u001b[0m \u001b[0;34m=\u001b[0m \u001b[0;32mTrue\u001b[0m\u001b[0;34m\u001b[0m\u001b[0m\n\u001b[1;32m    180\u001b[0m \u001b[0;34m\u001b[0m\u001b[0m\n",
      "\u001b[0;32m~/Library/Python/3.6/lib/python/site-packages/tensorflow_core/python/keras/engine/base_layer.py\u001b[0m in \u001b[0;36m__call__\u001b[0;34m(self, inputs, *args, **kwargs)\u001b[0m\n\u001b[1;32m    810\u001b[0m         \u001b[0;31m# are casted, not before.\u001b[0m\u001b[0;34m\u001b[0m\u001b[0;34m\u001b[0m\u001b[0m\n\u001b[1;32m    811\u001b[0m         input_spec.assert_input_compatibility(self.input_spec, inputs,\n\u001b[0;32m--> 812\u001b[0;31m                                               self.name)\n\u001b[0m\u001b[1;32m    813\u001b[0m         \u001b[0mgraph\u001b[0m \u001b[0;34m=\u001b[0m \u001b[0mbackend\u001b[0m\u001b[0;34m.\u001b[0m\u001b[0mget_graph\u001b[0m\u001b[0;34m(\u001b[0m\u001b[0;34m)\u001b[0m\u001b[0;34m\u001b[0m\u001b[0m\n\u001b[1;32m    814\u001b[0m         \u001b[0;32mwith\u001b[0m \u001b[0mgraph\u001b[0m\u001b[0;34m.\u001b[0m\u001b[0mas_default\u001b[0m\u001b[0;34m(\u001b[0m\u001b[0;34m)\u001b[0m\u001b[0;34m,\u001b[0m \u001b[0mbackend\u001b[0m\u001b[0;34m.\u001b[0m\u001b[0mname_scope\u001b[0m\u001b[0;34m(\u001b[0m\u001b[0mself\u001b[0m\u001b[0;34m.\u001b[0m\u001b[0m_name_scope\u001b[0m\u001b[0;34m(\u001b[0m\u001b[0;34m)\u001b[0m\u001b[0;34m)\u001b[0m\u001b[0;34m:\u001b[0m\u001b[0;34m\u001b[0m\u001b[0m\n",
      "\u001b[0;32m~/Library/Python/3.6/lib/python/site-packages/tensorflow_core/python/keras/engine/input_spec.py\u001b[0m in \u001b[0;36massert_input_compatibility\u001b[0;34m(input_spec, inputs, layer_name)\u001b[0m\n\u001b[1;32m    175\u001b[0m                          \u001b[0;34m'expected ndim='\u001b[0m \u001b[0;34m+\u001b[0m \u001b[0mstr\u001b[0m\u001b[0;34m(\u001b[0m\u001b[0mspec\u001b[0m\u001b[0;34m.\u001b[0m\u001b[0mndim\u001b[0m\u001b[0;34m)\u001b[0m \u001b[0;34m+\u001b[0m \u001b[0;34m', found ndim='\u001b[0m \u001b[0;34m+\u001b[0m\u001b[0;34m\u001b[0m\u001b[0m\n\u001b[1;32m    176\u001b[0m                          \u001b[0mstr\u001b[0m\u001b[0;34m(\u001b[0m\u001b[0mndim\u001b[0m\u001b[0;34m)\u001b[0m \u001b[0;34m+\u001b[0m \u001b[0;34m'. Full shape received: '\u001b[0m \u001b[0;34m+\u001b[0m\u001b[0;34m\u001b[0m\u001b[0m\n\u001b[0;32m--> 177\u001b[0;31m                          str(x.shape.as_list()))\n\u001b[0m\u001b[1;32m    178\u001b[0m     \u001b[0;32mif\u001b[0m \u001b[0mspec\u001b[0m\u001b[0;34m.\u001b[0m\u001b[0mmax_ndim\u001b[0m \u001b[0;32mis\u001b[0m \u001b[0;32mnot\u001b[0m \u001b[0;32mNone\u001b[0m\u001b[0;34m:\u001b[0m\u001b[0;34m\u001b[0m\u001b[0m\n\u001b[1;32m    179\u001b[0m       \u001b[0mndim\u001b[0m \u001b[0;34m=\u001b[0m \u001b[0mx\u001b[0m\u001b[0;34m.\u001b[0m\u001b[0mshape\u001b[0m\u001b[0;34m.\u001b[0m\u001b[0mndims\u001b[0m\u001b[0;34m\u001b[0m\u001b[0m\n",
      "\u001b[0;31mValueError\u001b[0m: Input 0 of layer conv2d_1 is incompatible with the layer: expected ndim=4, found ndim=3. Full shape received: [None, 16, 12]"
     ]
    }
   ],
   "source": [
    "model = Sequential()\n",
    "\n",
    "model.add(Conv2D(1, (3,3), input_shape = X.shape[1:])) \n",
    "model.add(Activation(\"relu\"))\n",
    "model.add(MaxPooling2D(pool_size = (2,2)))\n",
    "\n",
    "model.add(Flatten())\n",
    "model.add(Dense(2))\n",
    "\n",
    "model.add(Dense(2))\n",
    "model.add(Activation('sigmoid'))\n",
    "\n",
    "model.compile(loss = 'binary_crossentropy', optimizer = 'adam', metrics = ['accuracy'])\n",
    "\n",
    "model.fit(X, np.array(y), batch_size = 1, epochs = 10, validation_split = 0.2)"
   ]
  },
  {
   "cell_type": "code",
   "execution_count": null,
   "metadata": {},
   "outputs": [],
   "source": []
  }
 ],
 "metadata": {
  "kernelspec": {
   "display_name": "Python 3",
   "language": "python",
   "name": "python3"
  },
  "language_info": {
   "codemirror_mode": {
    "name": "ipython",
    "version": 3
   },
   "file_extension": ".py",
   "mimetype": "text/x-python",
   "name": "python",
   "nbconvert_exporter": "python",
   "pygments_lexer": "ipython3",
   "version": "3.6.5"
  }
 },
 "nbformat": 4,
 "nbformat_minor": 2
}
